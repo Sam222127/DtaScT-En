{
 "cells": [
  {
   "cell_type": "markdown",
   "id": "3bd6e268-b004-49d3-9d20-3b6396b84ee7",
   "metadata": {},
   "source": [
    "# Data Science Tools and Ecosystem"
   ]
  },
  {
   "cell_type": "markdown",
   "id": "6f39d83b-cead-420a-9826-bcdd19ebf6e2",
   "metadata": {},
   "source": [
    "Data Sceince Tools an Ecosystems are summarized in this notebook."
   ]
  },
  {
   "cell_type": "markdown",
   "id": "9fae2f2c-1b40-462e-baf7-93c142e09c58",
   "metadata": {},
   "source": [
    "Some of the popular languages that are used in Data Science include:\n",
    "\n",
    "1. Python\n",
    "2. R\n",
    "3. Julia\n",
    "4. SQL"
   ]
  },
  {
   "cell_type": "markdown",
   "id": "0a096ceb-5e75-4116-a3e3-0ab8910d2eaa",
   "metadata": {},
   "source": [
    "Some of the commonly used libraries used are:\n",
    "\n",
    "1. NumPy\n",
    "2. Scikit-learn\n",
    "3. Plotly\n",
    "4. Keras"
   ]
  },
  {
   "cell_type": "markdown",
   "id": "356f7598-150b-4ad6-b992-392e67434004",
   "metadata": {},
   "source": [
    "|Data Science Tools|\n",
    "|:--------------------:|\n",
    "|GitLab|\n",
    "|Visual Studio|\n",
    "|TensorFlow|"
   ]
  },
  {
   "cell_type": "markdown",
   "id": "e3b3e1eb-8cf3-4c54-b224-d71b8911ce29",
   "metadata": {},
   "source": [
    "### Below are a few examples of evaluating arithmetic expressions in Python"
   ]
  },
  {
   "cell_type": "code",
   "execution_count": null,
   "id": "2139a875-54c2-490b-8770-bb945e7d8773",
   "metadata": {},
   "outputs": [],
   "source": [
    "#This is a simple arithmetic expression to multiply then add integers "
   ]
  },
  {
   "cell_type": "code",
   "execution_count": 35,
   "id": "5e92e977-08c0-4245-830e-8fb058e20d56",
   "metadata": {},
   "outputs": [
    {
     "data": {
      "text/plain": [
       "17"
      ]
     },
     "execution_count": 35,
     "metadata": {},
     "output_type": "execute_result"
    }
   ],
   "source": [
    "(3*4)+5"
   ]
  },
  {
   "cell_type": "code",
   "execution_count": null,
   "id": "6529bc24-7408-4872-b6f1-feabb3c55ff9",
   "metadata": {},
   "outputs": [],
   "source": [
    "#This will convert 200 minutes to hours by dividing by 60"
   ]
  },
  {
   "cell_type": "code",
   "execution_count": 2,
   "id": "bed33ff8-695a-4249-bc0e-14a95ca8a62e",
   "metadata": {},
   "outputs": [
    {
     "data": {
      "text/plain": [
       "3.3333333333333335"
      ]
     },
     "execution_count": 2,
     "metadata": {},
     "output_type": "execute_result"
    }
   ],
   "source": [
    "200/60"
   ]
  },
  {
   "cell_type": "markdown",
   "id": "a708b08e-155b-4fc9-a6cf-ce78b0dd755f",
   "metadata": {},
   "source": [
    "**Objectives:**\n",
    "- List popular languages for Data Science\n",
    "- Learn about common libraries for data scientists\n",
    "- Explore many data science tools\n",
    "- Install environment managers\n"
   ]
  },
  {
   "cell_type": "markdown",
   "id": "7afc0caf-dd24-44a7-b1a3-483c2146e9db",
   "metadata": {},
   "source": [
    "## Author\n",
    "Samantha S."
   ]
  }
 ],
 "metadata": {
  "kernelspec": {
   "display_name": "Python 3 (ipykernel)",
   "language": "python",
   "name": "python3"
  },
  "language_info": {
   "codemirror_mode": {
    "name": "ipython",
    "version": 3
   },
   "file_extension": ".py",
   "mimetype": "text/x-python",
   "name": "python",
   "nbconvert_exporter": "python",
   "pygments_lexer": "ipython3",
   "version": "3.12.4"
  }
 },
 "nbformat": 4,
 "nbformat_minor": 5
}
